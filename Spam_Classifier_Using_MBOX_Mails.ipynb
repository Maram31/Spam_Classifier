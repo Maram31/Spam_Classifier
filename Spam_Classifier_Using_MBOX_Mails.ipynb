{
 "cells": [
  {
   "cell_type": "code",
   "execution_count": 52,
   "metadata": {},
   "outputs": [],
   "source": [
    "# Handling Mail\n",
    "import mailbox\n",
    "\n",
    "# Handling Data\n",
    "import pandas as pd\n",
    "import numpy as np\n",
    "\n",
    "import string\n",
    "import nltk\n",
    "from nltk.corpus import stopwords\n",
    "from nltk.stem import WordNetLemmatizer\n",
    "\n",
    "\n",
    "# Visualization\n",
    "import matplotlib.pyplot as plt\n",
    "import seaborn as sns\n",
    "\n",
    "# Building Models\n",
    "from sklearn.model_selection import train_test_split\n",
    "from sklearn.feature_extraction.text import CountVectorizer\n",
    "\n",
    "from sklearn.ensemble import RandomForestClassifier, GradientBoostingClassifier\n",
    "from xgboost import XGBClassifier\n",
    "from sklearn.naive_bayes import MultinomialNB\n",
    "from sklearn.linear_model import LogisticRegression, SGDClassifier\n",
    "from sklearn.neighbors import KNeighborsClassifier\n",
    "from sklearn.tree import DecisionTreeClassifier\n",
    "from sklearn.svm import SVC\n",
    "\n",
    "\n",
    "# Metrics\n",
    "from sklearn.metrics import confusion_matrix\n",
    "from sklearn.metrics import accuracy_score\n",
    "from sklearn.metrics import precision_score\n",
    "from sklearn.metrics import recall_score\n",
    "from sklearn.metrics import f1_score\n",
    "from sklearn.metrics import roc_auc_score\n",
    "from time import perf_counter"
   ]
  },
  {
   "cell_type": "code",
   "execution_count": 53,
   "metadata": {},
   "outputs": [],
   "source": [
    "#function to extract text from email body\n",
    "def extractMailText(message):                                          \n",
    "    body = None\n",
    "    if message.is_multipart():                                         #check if mbox email message has multiple parts\n",
    "        for part in message.walk():                                    #iterate over all the parts of the message \n",
    "            if part.is_multipart():\n",
    "                for subpart in part.walk():\n",
    "                    if subpart.get_content_type() == 'text/plain':\n",
    "                        body = subpart.get_payload(decode=True)\n",
    "            elif part.get_content_type() == 'text/plain':\n",
    "                body = part.get_payload(decode=True)\n",
    "    #if message only has a single part            \n",
    "    elif message.get_content_type() == 'text/plain':\n",
    "        body = message.get_payload(decode=True)\n",
    "    #return mail text which concatenates both mail subject and body\n",
    "    mailtext=str(message['subject'])+\" \"+str(body)\n",
    "    return mailtext"
   ]
  },
  {
   "cell_type": "code",
   "execution_count": 54,
   "metadata": {},
   "outputs": [],
   "source": [
    "#read spam mbox email file\n",
    "mbox = mailbox.mbox('SpamMail.mbox')\n",
    "\n",
    "#create list which contains mail text for each spam email message\n",
    "mlist_spam = []\n",
    "for message in mbox:\n",
    "    mlist_spam.append(extractMailText(message))\n",
    "    #break\n",
    "    \n",
    "    \n",
    "#read ham mbox email file\n",
    "mbox_ham = mailbox.mbox('HamMail.mbox')\n",
    "\n",
    "#create list which contains mail text for each ham email message\n",
    "mlist_ham = []\n",
    "for message in mbox_ham:\n",
    "    mlist_ham.append(extractMailText(message))"
   ]
  },
  {
   "cell_type": "code",
   "execution_count": 55,
   "metadata": {},
   "outputs": [
    {
     "name": "stdout",
     "output_type": "stream",
     "text": [
      "                                             message label  length\n",
      "0                    Visme educational material None  spam      31\n",
      "1  Bulk Download 37 PDFs related to \"Simon Haykin...  spam    1209\n",
      "2  =?utf-8?Q?ACC=20NewsLetter=202020?= b'December...  spam    8999\n",
      "3  Register for Free Kubernetes-focused Webinars,...  spam    3355\n",
      "4  Enter to Win Training or Certification! | The ...  spam    7322\n",
      "                                             message label  length\n",
      "0  NP Explore || Data Science Track Reformation b...   ham     471\n",
      "1  MI Recording - Request for access b'heba.ali99...   ham     383\n",
      "2  Re: MI Requirement 4 b'Yes continue as is.Than...   ham     928\n",
      "3  MI Requirement 4 b'Dear Dr. Nevin,\\nRegarding ...   ham     750\n",
      "4            Your Sunday morning trip with Uber None   ham      39\n"
     ]
    }
   ],
   "source": [
    "#create 2 dataframes for ham spam mails which contain the following information:\n",
    "#mail text, mail length, mail is ham/spam label\n",
    "spam_df = pd.DataFrame(mlist_spam, columns=[\"message\"])\n",
    "spam_df[\"label\"] = \"spam\"\n",
    "\n",
    "spam_df['length'] = spam_df['message'].map(lambda text: len(text))\n",
    "print(spam_df.head())\n",
    "\n",
    "ham_df = pd.DataFrame(mlist_ham, columns=[\"message\"])\n",
    "ham_df[\"label\"] = \"ham\"\n",
    "\n",
    "ham_df['length'] = ham_df['message'].map(lambda text: len(text))\n",
    "print(ham_df.head())"
   ]
  },
  {
   "cell_type": "code",
   "execution_count": 56,
   "metadata": {},
   "outputs": [
    {
     "data": {
      "text/plain": [
       "4495"
      ]
     },
     "execution_count": 56,
     "metadata": {},
     "output_type": "execute_result"
    }
   ],
   "source": [
    "# Merge and shuffle dataframes for ham/spam mails\n",
    "mailframe = pd.concat([spam_df,ham_df])\n",
    "from sklearn.utils import shuffle\n",
    "mailframe = shuffle(mailframe)\n",
    "len(mailframe)"
   ]
  },
  {
   "cell_type": "code",
   "execution_count": 57,
   "metadata": {},
   "outputs": [
    {
     "data": {
      "text/plain": [
       "(4495, 3)"
      ]
     },
     "execution_count": 57,
     "metadata": {},
     "output_type": "execute_result"
    }
   ],
   "source": [
    "# Get the number of rows and columns in data\n",
    "mailframe.shape"
   ]
  },
  {
   "cell_type": "code",
   "execution_count": 58,
   "metadata": {},
   "outputs": [
    {
     "data": {
      "text/html": [
       "<div>\n",
       "<style scoped>\n",
       "    .dataframe tbody tr th:only-of-type {\n",
       "        vertical-align: middle;\n",
       "    }\n",
       "\n",
       "    .dataframe tbody tr th {\n",
       "        vertical-align: top;\n",
       "    }\n",
       "\n",
       "    .dataframe thead th {\n",
       "        text-align: right;\n",
       "    }\n",
       "</style>\n",
       "<table border=\"1\" class=\"dataframe\">\n",
       "  <thead>\n",
       "    <tr style=\"text-align: right;\">\n",
       "      <th></th>\n",
       "      <th>message</th>\n",
       "      <th>label</th>\n",
       "      <th>length</th>\n",
       "    </tr>\n",
       "  </thead>\n",
       "  <tbody>\n",
       "    <tr>\n",
       "      <th>328</th>\n",
       "      <td>=?UTF-8?B?RnJhbmNlIFNlaXplcyBGcmFuY2UuY29tLiBC...</td>\n",
       "      <td>spam</td>\n",
       "      <td>4453</td>\n",
       "    </tr>\n",
       "    <tr>\n",
       "      <th>2769</th>\n",
       "      <td>Complete your application None</td>\n",
       "      <td>ham</td>\n",
       "      <td>30</td>\n",
       "    </tr>\n",
       "    <tr>\n",
       "      <th>2811</th>\n",
       "      <td>You can never have too many deals ... None</td>\n",
       "      <td>ham</td>\n",
       "      <td>42</td>\n",
       "    </tr>\n",
       "    <tr>\n",
       "      <th>2494</th>\n",
       "      <td>Start Building. The Kingdom of Women. Life is ...</td>\n",
       "      <td>ham</td>\n",
       "      <td>4417</td>\n",
       "    </tr>\n",
       "    <tr>\n",
       "      <th>2163</th>\n",
       "      <td>=?iso-8859-15?B?RnJlZSBiYWNrLXRvLXNjaG9vbCB3ZW...</td>\n",
       "      <td>ham</td>\n",
       "      <td>1737</td>\n",
       "    </tr>\n",
       "  </tbody>\n",
       "</table>\n",
       "</div>"
      ],
      "text/plain": [
       "                                                message label  length\n",
       "328   =?UTF-8?B?RnJhbmNlIFNlaXplcyBGcmFuY2UuY29tLiBC...  spam    4453\n",
       "2769                     Complete your application None   ham      30\n",
       "2811         You can never have too many deals ... None   ham      42\n",
       "2494  Start Building. The Kingdom of Women. Life is ...   ham    4417\n",
       "2163  =?iso-8859-15?B?RnJlZSBiYWNrLXRvLXNjaG9vbCB3ZW...   ham    1737"
      ]
     },
     "execution_count": 58,
     "metadata": {},
     "output_type": "execute_result"
    }
   ],
   "source": [
    "mailframe.head()"
   ]
  },
  {
   "cell_type": "code",
   "execution_count": 59,
   "metadata": {},
   "outputs": [
    {
     "data": {
      "text/plain": [
       "Index(['message', 'label', 'length'], dtype='object')"
      ]
     },
     "execution_count": 59,
     "metadata": {},
     "output_type": "execute_result"
    }
   ],
   "source": [
    "# Get column names\n",
    "mailframe.columns"
   ]
  },
  {
   "cell_type": "code",
   "execution_count": 60,
   "metadata": {},
   "outputs": [
    {
     "data": {
      "text/plain": [
       "message    False\n",
       "label      False\n",
       "length     False\n",
       "dtype: bool"
      ]
     },
     "execution_count": 60,
     "metadata": {},
     "output_type": "execute_result"
    }
   ],
   "source": [
    "# Check if there missing data for each column\n",
    "mailframe.isnull().any()"
   ]
  },
  {
   "cell_type": "code",
   "execution_count": 61,
   "metadata": {},
   "outputs": [
    {
     "data": {
      "image/png": "[encoded data removed]",
      "text/plain": [
       "<Figure size 432x288 with 1 Axes>"
      ]
     },
     "metadata": {
      "needs_background": "light"
     },
     "output_type": "display_data"
    },
    {
     "name": "stdout",
     "output_type": "stream",
     "text": [
      "ham     3437\n",
      "spam    1058\n",
      "Name: label, dtype: int64\n"
     ]
    }
   ],
   "source": [
    "# Displaying the total count of ham and spam emails in the dataset\n",
    "mailframe['label'].value_counts().plot.bar(color = [\"b\",\"r\"])\n",
    "plt.title('Total Count of Ham and Spam Emails in the Dataset')\n",
    "plt.show()\n",
    "print(mailframe['label'].value_counts())"
   ]
  },
  {
   "cell_type": "markdown",
   "metadata": {},
   "source": [
    "# Preprocessing Mail Text "
   ]
  },
  {
   "cell_type": "code",
   "execution_count": 62,
   "metadata": {},
   "outputs": [],
   "source": [
    "stemmer = WordNetLemmatizer()\n",
    "\n",
    "# Creating a function to process text in the email message\n",
    "def process_mail(text):\n",
    "    \n",
    "    #1 remove punctuation\n",
    "    no_punctuation = [char for char in text if char not in string.punctuation]\n",
    "    no_punctuation = ''.join(no_punctuation)\n",
    "\n",
    "    #2 remove stopwords\n",
    "    stop_words = set(stopwords.words('english')) \n",
    "    clean_words = [word for word in no_punctuation.split() if word.lower() not in stop_words]\n",
    "       \n",
    "    # lemmatization\n",
    "    clean_words = [stemmer.lemmatize(word) for word in clean_words]\n",
    "    \n",
    "    #3 return a list of clean text words\n",
    "    return clean_words"
   ]
  },
  {
   "cell_type": "code",
   "execution_count": 63,
   "metadata": {},
   "outputs": [
    {
     "data": {
      "text/plain": [
       "328     [UTF8BRnJhbmNlIFNlaXplcyBGcmFuY2UuY29tLiBCZXpv...\n",
       "2769                        [Complete, application, None]\n",
       "2811                            [never, many, deal, None]\n",
       "2494    [Start, Building, Kingdom, Women, Life, Video,...\n",
       "2163    [iso885915BRnJlZSBiYWNrLXRvLXNjaG9vbCB3ZWJpbmF...\n",
       "Name: message, dtype: object"
      ]
     },
     "execution_count": 63,
     "metadata": {},
     "output_type": "execute_result"
    }
   ],
   "source": [
    "# Show the tokenizations\n",
    "mailframe['message'].head().apply(process_mail)"
   ]
  },
  {
   "cell_type": "code",
   "execution_count": 64,
   "metadata": {},
   "outputs": [],
   "source": [
    "# Convert the collection of text to a matrix of token counts\n",
    "cVect = CountVectorizer(analyzer = process_mail)\n",
    "x = cVect.fit_transform((mailframe['message']))\n",
    "\n",
    "y = mailframe.label"
   ]
  },
  {
   "cell_type": "code",
   "execution_count": 65,
   "metadata": {},
   "outputs": [
    {
     "name": "stdout",
     "output_type": "stream",
     "text": [
      "Number of tokens:  90725\n"
     ]
    }
   ],
   "source": [
    "#Display number of tokens\n",
    "print('Number of tokens: ', x.shape[1])"
   ]
  },
  {
   "cell_type": "markdown",
   "metadata": {},
   "source": [
    "# Splitting Data into Training and Testing Sets"
   ]
  },
  {
   "cell_type": "code",
   "execution_count": 66,
   "metadata": {},
   "outputs": [],
   "source": [
    "# Split dataset into 80% training and 20% testing\n",
    "x_train, x_test, y_train, y_test = train_test_split(x, y, test_size = 0.20, random_state = 0)\n"
   ]
  },
  {
   "cell_type": "code",
   "execution_count": 67,
   "metadata": {},
   "outputs": [
    {
     "name": "stdout",
     "output_type": "stream",
     "text": [
      "Shape of training data: (3596, 90725)\n",
      "Shape of testing data: (899, 90725)\n"
     ]
    }
   ],
   "source": [
    "print(f\"Shape of training data: {x_train.shape}\\nShape of testing data: {x_test.shape}\")"
   ]
  },
  {
   "cell_type": "markdown",
   "metadata": {},
   "source": [
    "# Creating Models"
   ]
  },
  {
   "cell_type": "code",
   "execution_count": 68,
   "metadata": {},
   "outputs": [],
   "source": [
    "from sklearn.ensemble import RandomForestClassifier, GradientBoostingClassifier\n",
    "from xgboost import XGBClassifier\n",
    "from sklearn.naive_bayes import MultinomialNB\n",
    "from sklearn.linear_model import LogisticRegression, SGDClassifier\n",
    "from sklearn.neighbors import KNeighborsClassifier\n",
    "from sklearn.tree import DecisionTreeClassifier\n",
    "from sklearn.svm import SVC\n",
    "\n",
    "from time import perf_counter\n",
    "\n",
    "# Metrics\n",
    "from sklearn.metrics import confusion_matrix\n",
    "from sklearn.metrics import precision_score\n",
    "from sklearn.metrics import recall_score\n",
    "from sklearn.metrics import f1_score\n",
    "from sklearn.metrics import roc_auc_score"
   ]
  },
  {
   "cell_type": "code",
   "execution_count": 69,
   "metadata": {},
   "outputs": [
    {
     "name": "stdout",
     "output_type": "stream",
     "text": [
      "Decision Tree        trained in 1.28 sec\n",
      "Naive Bayes          trained in 0.01 sec\n",
      "Random Forest        trained in 14.74 sec\n"
     ]
    },
    {
     "name": "stderr",
     "output_type": "stream",
     "text": [
      "C:\\Users\\Maram\\anaconda3\\lib\\site-packages\\sklearn\\linear_model\\_logistic.py:762: ConvergenceWarning: lbfgs failed to converge (status=1):\n",
      "STOP: TOTAL NO. of ITERATIONS REACHED LIMIT.\n",
      "\n",
      "Increase the number of iterations (max_iter) or scale the data as shown in:\n",
      "    https://scikit-learn.org/stable/modules/preprocessing.html\n",
      "Please also refer to the documentation for alternative solver options:\n",
      "    https://scikit-learn.org/stable/modules/linear_model.html#logistic-regression\n",
      "  n_iter_i = _check_optimize_result(\n"
     ]
    },
    {
     "name": "stdout",
     "output_type": "stream",
     "text": [
      "Logistic Regression  trained in 1.38 sec\n",
      "KNN                  trained in 0.01 sec\n",
      "SVM                  trained in 4.09 sec\n",
      "SGD                  trained in 0.04 sec\n",
      "GBM                  trained in 42.64 sec\n"
     ]
    },
    {
     "name": "stderr",
     "output_type": "stream",
     "text": [
      "C:\\Users\\Maram\\anaconda3\\lib\\site-packages\\xgboost\\sklearn.py:1146: UserWarning: The use of label encoder in XGBClassifier is deprecated and will be removed in a future release. To remove this warning, do the following: 1) Pass option use_label_encoder=False when constructing XGBClassifier object; and 2) Encode your labels (y) as integers starting with 0, i.e. 0, 1, 2, ..., [num_class - 1].\n",
      "  warnings.warn(label_encoder_deprecation_msg, UserWarning)\n"
     ]
    },
    {
     "name": "stdout",
     "output_type": "stream",
     "text": [
      "XGBoost              trained in 4.98 sec\n"
     ]
    }
   ],
   "source": [
    "models = {\n",
    "    \"Decision Tree\": {\"model\":DecisionTreeClassifier(), \"perf\":0},\n",
    "    \"Naive Bayes\": {\"model\":MultinomialNB(), \"perf\":0},\n",
    "    \"Random Forest\": {\"model\":RandomForestClassifier(), \"perf\":0},\n",
    "    \"Logistic Regression\": {\"model\":LogisticRegression(), \"perf\":0},\n",
    "    \"KNN\": {\"model\":KNeighborsClassifier(), \"perf\":0},\n",
    "    \"SVM\": {\"model\":SVC(), \"perf\":0},\n",
    "    \"SGD\": {\"model\":SGDClassifier(), \"perf\":0},\n",
    "    \"GBM\": {\"model\":GradientBoostingClassifier(), \"perf\":0},\n",
    "    \"XGBoost\": {\"model\":XGBClassifier(eval_metric='mlogloss'), \"perf\":0},\n",
    "}\n",
    "\n",
    "for name, model in models.items():\n",
    "    start = perf_counter()\n",
    "    model[\"model\"].fit(x_train, y_train)\n",
    "    duration = perf_counter() - start\n",
    "    duration = round(duration,2)\n",
    "    model[\"perf\"] = duration\n",
    "    print(f\"{name:20} trained in {duration} sec\")"
   ]
  },
  {
   "cell_type": "code",
   "execution_count": 70,
   "metadata": {},
   "outputs": [],
   "source": [
    "models_acc = []\n",
    "for name, model in models.items():\n",
    "    models_acc.append([name, model[\"model\"].score(x_test, y_test), \n",
    "                       model[\"perf\"]])"
   ]
  },
  {
   "cell_type": "code",
   "execution_count": 71,
   "metadata": {},
   "outputs": [],
   "source": [
    "models_ass = []\n",
    "for name, model in models.items():\n",
    "    # Making predictions\n",
    "    predicted_class = model[\"model\"].predict(x_test)\n",
    "    \n",
    "    # Calculating the performance\n",
    "    models_ass.append([name, \n",
    "                       accuracy_score(y_test, predicted_class), \n",
    "                       precision_score(y_test, predicted_class, pos_label = 'spam'),\n",
    "                       recall_score(y_test, predicted_class, pos_label = 'spam'),\n",
    "                       f1_score(y_test,predicted_class,pos_label = 'spam'),\n",
    "                       roc_auc_score(np.where(y_test=='spam',1,0),np.where(predicted_class=='spam',1,0)),\n",
    "                       model[\"perf\"]])"
   ]
  },
  {
   "cell_type": "code",
   "execution_count": 72,
   "metadata": {},
   "outputs": [
    {
     "data": {
      "text/html": [
       "<div>\n",
       "<style scoped>\n",
       "    .dataframe tbody tr th:only-of-type {\n",
       "        vertical-align: middle;\n",
       "    }\n",
       "\n",
       "    .dataframe tbody tr th {\n",
       "        vertical-align: top;\n",
       "    }\n",
       "\n",
       "    .dataframe thead th {\n",
       "        text-align: right;\n",
       "    }\n",
       "</style>\n",
       "<table border=\"1\" class=\"dataframe\">\n",
       "  <thead>\n",
       "    <tr style=\"text-align: right;\">\n",
       "      <th></th>\n",
       "      <th>Model</th>\n",
       "      <th>Accuracy</th>\n",
       "      <th>Recall</th>\n",
       "      <th>Precision</th>\n",
       "      <th>F1-Score</th>\n",
       "      <th>AUC</th>\n",
       "      <th>Training Time (sec)</th>\n",
       "    </tr>\n",
       "  </thead>\n",
       "  <tbody>\n",
       "    <tr>\n",
       "      <th>0</th>\n",
       "      <td>Decision Tree</td>\n",
       "      <td>0.928810</td>\n",
       "      <td>0.930481</td>\n",
       "      <td>0.773333</td>\n",
       "      <td>0.844660</td>\n",
       "      <td>0.877023</td>\n",
       "      <td>1.28</td>\n",
       "    </tr>\n",
       "    <tr>\n",
       "      <th>1</th>\n",
       "      <td>Naive Bayes</td>\n",
       "      <td>0.876529</td>\n",
       "      <td>0.771429</td>\n",
       "      <td>0.720000</td>\n",
       "      <td>0.744828</td>\n",
       "      <td>0.824392</td>\n",
       "      <td>0.01</td>\n",
       "    </tr>\n",
       "    <tr>\n",
       "      <th>2</th>\n",
       "      <td>Random Forest</td>\n",
       "      <td>0.892102</td>\n",
       "      <td>0.963768</td>\n",
       "      <td>0.591111</td>\n",
       "      <td>0.732782</td>\n",
       "      <td>0.791846</td>\n",
       "      <td>14.74</td>\n",
       "    </tr>\n",
       "    <tr>\n",
       "      <th>3</th>\n",
       "      <td>Logistic Regression</td>\n",
       "      <td>0.903226</td>\n",
       "      <td>0.910714</td>\n",
       "      <td>0.680000</td>\n",
       "      <td>0.778626</td>\n",
       "      <td>0.828872</td>\n",
       "      <td>1.38</td>\n",
       "    </tr>\n",
       "    <tr>\n",
       "      <th>4</th>\n",
       "      <td>KNN</td>\n",
       "      <td>0.848721</td>\n",
       "      <td>0.783439</td>\n",
       "      <td>0.546667</td>\n",
       "      <td>0.643979</td>\n",
       "      <td>0.748111</td>\n",
       "      <td>0.01</td>\n",
       "    </tr>\n",
       "    <tr>\n",
       "      <th>5</th>\n",
       "      <td>SVM</td>\n",
       "      <td>0.868743</td>\n",
       "      <td>1.000000</td>\n",
       "      <td>0.475556</td>\n",
       "      <td>0.644578</td>\n",
       "      <td>0.737778</td>\n",
       "      <td>4.09</td>\n",
       "    </tr>\n",
       "    <tr>\n",
       "      <th>6</th>\n",
       "      <td>SGD</td>\n",
       "      <td>0.917686</td>\n",
       "      <td>0.899471</td>\n",
       "      <td>0.755556</td>\n",
       "      <td>0.821256</td>\n",
       "      <td>0.863683</td>\n",
       "      <td>0.04</td>\n",
       "    </tr>\n",
       "    <tr>\n",
       "      <th>7</th>\n",
       "      <td>GBM</td>\n",
       "      <td>0.915462</td>\n",
       "      <td>0.980645</td>\n",
       "      <td>0.675556</td>\n",
       "      <td>0.800000</td>\n",
       "      <td>0.835552</td>\n",
       "      <td>42.64</td>\n",
       "    </tr>\n",
       "    <tr>\n",
       "      <th>8</th>\n",
       "      <td>XGBoost</td>\n",
       "      <td>0.921023</td>\n",
       "      <td>0.987342</td>\n",
       "      <td>0.693333</td>\n",
       "      <td>0.814621</td>\n",
       "      <td>0.845183</td>\n",
       "      <td>4.98</td>\n",
       "    </tr>\n",
       "  </tbody>\n",
       "</table>\n",
       "</div>"
      ],
      "text/plain": [
       "                 Model  Accuracy    Recall  Precision  F1-Score       AUC  \\\n",
       "0        Decision Tree  0.928810  0.930481   0.773333  0.844660  0.877023   \n",
       "1          Naive Bayes  0.876529  0.771429   0.720000  0.744828  0.824392   \n",
       "2        Random Forest  0.892102  0.963768   0.591111  0.732782  0.791846   \n",
       "3  Logistic Regression  0.903226  0.910714   0.680000  0.778626  0.828872   \n",
       "4                  KNN  0.848721  0.783439   0.546667  0.643979  0.748111   \n",
       "5                  SVM  0.868743  1.000000   0.475556  0.644578  0.737778   \n",
       "6                  SGD  0.917686  0.899471   0.755556  0.821256  0.863683   \n",
       "7                  GBM  0.915462  0.980645   0.675556  0.800000  0.835552   \n",
       "8              XGBoost  0.921023  0.987342   0.693333  0.814621  0.845183   \n",
       "\n",
       "   Training Time (sec)  \n",
       "0                 1.28  \n",
       "1                 0.01  \n",
       "2                14.74  \n",
       "3                 1.38  \n",
       "4                 0.01  \n",
       "5                 4.09  \n",
       "6                 0.04  \n",
       "7                42.64  \n",
       "8                 4.98  "
      ]
     },
     "execution_count": 72,
     "metadata": {},
     "output_type": "execute_result"
    }
   ],
   "source": [
    "df_ass = pd.DataFrame(models_ass)\n",
    "df_ass.columns = ['Model', 'Accuracy', 'Recall', 'Precision', 'F1-Score', 'AUC', 'Training Time (sec)']\n",
    "#df_ass.sort_values(by = 'Accuracy', ascending = False, inplace=True)\n",
    "df_ass.reset_index(drop = True, inplace=True)\n",
    "df_ass"
   ]
  },
  {
   "cell_type": "markdown",
   "metadata": {},
   "source": [
    "# Visualization"
   ]
  },
  {
   "cell_type": "markdown",
   "metadata": {},
   "source": [
    "## Confusion Matrix "
   ]
  },
  {
   "cell_type": "code",
   "execution_count": 73,
   "metadata": {},
   "outputs": [
    {
     "data": {
      "image/png": "[encoded data removed]",
      "text/plain": [
       "<Figure size 432x432 with 2 Axes>"
      ]
     },
     "metadata": {
      "needs_background": "light"
     },
     "output_type": "display_data"
    },
    {
     "data": {
      "image/png": "[encoded data removed]",
      "text/plain": [
       "<Figure size 432x432 with 2 Axes>"
      ]
     },
     "metadata": {
      "needs_background": "light"
     },
     "output_type": "display_data"
    },
    {
     "data": {
      "image/png": "[encoded data removed]",
      "text/plain": [
       "<Figure size 432x432 with 2 Axes>"
      ]
     },
     "metadata": {
      "needs_background": "light"
     },
     "output_type": "display_data"
    },
    {
     "data": {
      "image/png": "[encoded data removed]",
      "text/plain": [
       "<Figure size 432x432 with 2 Axes>"
      ]
     },
     "metadata": {
      "needs_background": "light"
     },
     "output_type": "display_data"
    },
    {
     "data": {
      "image/png": "[encoded data removed]",
      "text/plain": [
       "<Figure size 432x432 with 2 Axes>"
      ]
     },
     "metadata": {
      "needs_background": "light"
     },
     "output_type": "display_data"
    },
    {
     "data": {
      "image/png": "[encoded data removed]",
      "text/plain": [
       "<Figure size 432x432 with 2 Axes>"
      ]
     },
     "metadata": {
      "needs_background": "light"
     },
     "output_type": "display_data"
    },
    {
     "data": {
      "image/png": "[encoded data removed]",
      "text/plain": [
       "<Figure size 432x432 with 2 Axes>"
      ]
     },
     "metadata": {
      "needs_background": "light"
     },
     "output_type": "display_data"
    },
    {
     "data": {
      "image/png": "[encoded data removed]",
      "text/plain": [
       "<Figure size 432x432 with 2 Axes>"
      ]
     },
     "metadata": {
      "needs_background": "light"
     },
     "output_type": "display_data"
    },
    {
     "data": {
      "image/png": "[encoded data removed]",
      "text/plain": [
       "<Figure size 432x432 with 2 Axes>"
      ]
     },
     "metadata": {
      "needs_background": "light"
     },
     "output_type": "display_data"
    }
   ],
   "source": [
    "# Displaying confusion matrix for each model\n",
    "for name, model in models.items():\n",
    "    predicted_class = model[\"model\"].predict(x_test)\n",
    "    cmat = confusion_matrix(y_test, predicted_class)\n",
    "    plt.figure(figsize = (6, 6))\n",
    "    plt.title(name + ' Confusion Matrix')\n",
    "    sns.heatmap(cmat, annot=True, fmt=\".0f\", linewidths=0.5, square = True, cmap = 'Pastel1',\n",
    "                xticklabels=['Not Spam', 'Spam'], yticklabels=['Not Spam', 'Spam'])"
   ]
  },
  {
   "cell_type": "markdown",
   "metadata": {},
   "source": [
    "## Accuracy "
   ]
  },
  {
   "cell_type": "code",
   "execution_count": 78,
   "metadata": {},
   "outputs": [
    {
     "data": {
      "image/png": "[encoded data removed]",
      "text/plain": [
       "<Figure size 1440x720 with 1 Axes>"
      ]
     },
     "metadata": {
      "needs_background": "light"
     },
     "output_type": "display_data"
    }
   ],
   "source": [
    "# Comparing the accuracy for each model\n",
    "plt.figure(figsize = (20,10))\n",
    "sns.barplot(x = 'Model', y = 'Accuracy', data = df_ass)\n",
    "plt.title('Test Set Accuracy\\n(Y-Axis is between 0.82 and 0.94)', fontsize = 15)\n",
    "plt.ylim(0.82, 0.94)\n",
    "plt.show()"
   ]
  },
  {
   "cell_type": "markdown",
   "metadata": {},
   "source": [
    "## Training Time "
   ]
  },
  {
   "cell_type": "code",
   "execution_count": 81,
   "metadata": {},
   "outputs": [
    {
     "data": {
      "image/png": "[encoded data removed]",
      "text/plain": [
       "<Figure size 1440x720 with 1 Axes>"
      ]
     },
     "metadata": {
      "needs_background": "light"
     },
     "output_type": "display_data"
    }
   ],
   "source": [
    "# Comparing the time for each model\n",
    "plt.figure(figsize = (20, 10))\n",
    "sns.barplot(x = 'Model', y = 'Training Time (sec)', data = df_ass)\n",
    "plt.title('Training Time\\n', fontsize = 15)\n",
    "plt.ylim(0, 50)\n",
    "plt.show()"
   ]
  }
 ],
 "metadata": {
  "kernelspec": {
   "display_name": "Python 3",
   "language": "python",
   "name": "python3"
  },
  "language_info": {
   "codemirror_mode": {
    "name": "ipython",
    "version": 3
   },
   "file_extension": ".py",
   "mimetype": "text/x-python",
   "name": "python",
   "nbconvert_exporter": "python",
   "pygments_lexer": "ipython3",
   "version": "3.8.3"
  }
 },
 "nbformat": 4,
 "nbformat_minor": 4
}
